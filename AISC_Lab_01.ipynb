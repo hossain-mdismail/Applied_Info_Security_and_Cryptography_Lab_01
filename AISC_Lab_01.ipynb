{
  "nbformat": 4,
  "nbformat_minor": 0,
  "metadata": {
    "colab": {
      "provenance": [],
      "authorship_tag": "ABX9TyMHZ2tSV3kIpz94V4SITud0",
      "include_colab_link": true
    },
    "kernelspec": {
      "name": "python3",
      "display_name": "Python 3"
    },
    "language_info": {
      "name": "python"
    }
  },
  "cells": [
    {
      "cell_type": "markdown",
      "metadata": {
        "id": "view-in-github",
        "colab_type": "text"
      },
      "source": [
        "<a href=\"https://colab.research.google.com/github/hossain-mdismail/Applied_Info_Security_and_Cryptography_Lab_01/blob/main/AISC_Lab_01.ipynb\" target=\"_parent\"><img src=\"https://colab.research.google.com/assets/colab-badge.svg\" alt=\"Open In Colab\"/></a>"
      ]
    },
    {
      "cell_type": "code",
      "execution_count": 1,
      "metadata": {
        "colab": {
          "base_uri": "https://localhost:8080/"
        },
        "id": "-kw833waxlSq",
        "outputId": "e6f8ec69-f8b2-4a60-b578-ee7c6f062757"
      },
      "outputs": [
        {
          "output_type": "stream",
          "name": "stdout",
          "text": [
            "Requirement already satisfied: numpy in /usr/local/lib/python3.12/dist-packages (2.0.2)\n"
          ]
        }
      ],
      "source": [
        "pip install numpy"
      ]
    },
    {
      "cell_type": "code",
      "source": [
        "\n",
        "!pip install numpy\n",
        "import numpy as np\n",
        "\n",
        "# helper functions from uploaded .py file\n",
        "import AISC_01 as lab1\n",
        "\n",
        "#English letter frequencies from AISC_01.py for later use\n",
        "\n",
        "english_letter_freqs = [0.085516907,\n",
        "0.016047959,\n",
        "0.031644354,\n",
        "0.038711837,\n",
        "0.120965225,\n",
        "0.021815104,\n",
        "0.020863354,\n",
        "0.049557073,\n",
        "0.073251186,\n",
        "0.002197789,\n",
        "0.008086975,\n",
        "0.042064643,\n",
        "0.025263217,\n",
        "0.071721849,\n",
        "0.074672654,\n",
        "0.020661661,\n",
        "0.001040245,\n",
        "0.063327101,\n",
        "0.067282031,\n",
        "0.089381269,\n",
        "0.026815809,\n",
        "0.010593463,\n",
        "0.018253619,\n",
        "0.001913505,\n",
        "0.017213606,\n",
        "0.001137563]"
      ],
      "metadata": {
        "colab": {
          "base_uri": "https://localhost:8080/"
        },
        "id": "Uk8XaHg8y-u-",
        "outputId": "ea841228-1dce-4c1f-9009-bfc50ab61e1c"
      },
      "execution_count": 2,
      "outputs": [
        {
          "output_type": "stream",
          "name": "stdout",
          "text": [
            "Requirement already satisfied: numpy in /usr/local/lib/python3.12/dist-packages (2.0.2)\n"
          ]
        }
      ]
    },
    {
      "cell_type": "code",
      "source": [
        "# --- TASK 1: Monoalphabetic Cipher ---\n",
        "\n",
        "# Reading the ciphertext from the file\n",
        "\n",
        "with open(\"cryptogram01.txt\", \"r\") as text_file:\n",
        "    cryptogram01 = text_file.read()\n",
        "\n",
        "print(\"--- Cryptogram 01 Analysis ---\")\n",
        "print(\"Top 5 Trigrams:\")\n",
        "print(lab1.trigram_ranking(cryptogram01, 5))\n",
        "\n",
        "print(\"\\nTop 5 Digrams:\")\n",
        "print(lab1.digram_ranking(cryptogram01, 5))\n",
        "\n",
        "print(\"\\nTop 5 Monograms (Letters):\")\n",
        "print(lab1.monogram_ranking(cryptogram01, 5))"
      ],
      "metadata": {
        "colab": {
          "base_uri": "https://localhost:8080/"
        },
        "id": "8IfAX8qA3gUD",
        "outputId": "fa68d835-9cbf-4590-fe01-e8788f85e559"
      },
      "execution_count": 3,
      "outputs": [
        {
          "output_type": "stream",
          "name": "stdout",
          "text": [
            "--- Cryptogram 01 Analysis ---\n",
            "Top 5 Trigrams:\n",
            "[('FXW', np.int64(36)), ('ZRN', np.int64(15)), ('JRB', np.int64(14)), ('FXZ', np.int64(11)), ('XWH', np.int64(11))]\n",
            "\n",
            "Top 5 Digrams:\n",
            "[('FX', np.int64(59)), ('JR', np.int64(44)), ('XW', np.int64(41)), ('WH', np.int64(40)), ('ZR', np.int64(35))]\n",
            "\n",
            "Top 5 Monograms (Letters):\n",
            "[('W', np.int64(255)), ('F', np.int64(190)), ('Z', np.int64(170)), ('M', np.int64(163)), ('R', np.int64(150))]\n"
          ]
        }
      ]
    },
    {
      "cell_type": "code",
      "source": [],
      "metadata": {
        "id": "dbeOIeBp5skC"
      },
      "execution_count": null,
      "outputs": []
    }
  ]
}