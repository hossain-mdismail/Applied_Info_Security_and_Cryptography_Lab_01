{
  "nbformat": 4,
  "nbformat_minor": 0,
  "metadata": {
    "colab": {
      "provenance": [],
      "authorship_tag": "ABX9TyM+VcFsxg0bQf9mjGZ6DkmR",
      "include_colab_link": true
    },
    "kernelspec": {
      "name": "python3",
      "display_name": "Python 3"
    },
    "language_info": {
      "name": "python"
    }
  },
  "cells": [
    {
      "cell_type": "markdown",
      "metadata": {
        "id": "view-in-github",
        "colab_type": "text"
      },
      "source": [
        "<a href=\"https://colab.research.google.com/github/hossain-mdismail/Applied_Info_Security_and_Cryptography_Lab_01/blob/main/AISC_Lab_01.ipynb\" target=\"_parent\"><img src=\"https://colab.research.google.com/assets/colab-badge.svg\" alt=\"Open In Colab\"/></a>"
      ]
    },
    {
      "cell_type": "code",
      "execution_count": 16,
      "metadata": {
        "colab": {
          "base_uri": "https://localhost:8080/"
        },
        "id": "-kw833waxlSq",
        "outputId": "ac449584-e732-45b6-a478-511acfbc0f9a"
      },
      "outputs": [
        {
          "output_type": "stream",
          "name": "stdout",
          "text": [
            "Requirement already satisfied: numpy in /usr/local/lib/python3.12/dist-packages (2.0.2)\n"
          ]
        }
      ],
      "source": [
        "pip install numpy"
      ]
    },
    {
      "cell_type": "code",
      "source": [
        "\n",
        "!pip install numpy\n",
        "import numpy as np\n",
        "\n",
        "# helper functions from uploaded .py file\n",
        "import AISC_01 as lab1\n",
        "\n",
        "#English letter frequencies from AISC_01.py for later use\n",
        "\n",
        "english_letter_freqs = [0.085516907,\n",
        "0.016047959,\n",
        "0.031644354,\n",
        "0.038711837,\n",
        "0.120965225,\n",
        "0.021815104,\n",
        "0.020863354,\n",
        "0.049557073,\n",
        "0.073251186,\n",
        "0.002197789,\n",
        "0.008086975,\n",
        "0.042064643,\n",
        "0.025263217,\n",
        "0.071721849,\n",
        "0.074672654,\n",
        "0.020661661,\n",
        "0.001040245,\n",
        "0.063327101,\n",
        "0.067282031,\n",
        "0.089381269,\n",
        "0.026815809,\n",
        "0.010593463,\n",
        "0.018253619,\n",
        "0.001913505,\n",
        "0.017213606,\n",
        "0.001137563]"
      ],
      "metadata": {
        "colab": {
          "base_uri": "https://localhost:8080/"
        },
        "id": "Uk8XaHg8y-u-",
        "outputId": "6b134787-1a91-49bb-b8d6-e2cf997e302d"
      },
      "execution_count": 17,
      "outputs": [
        {
          "output_type": "stream",
          "name": "stdout",
          "text": [
            "Requirement already satisfied: numpy in /usr/local/lib/python3.12/dist-packages (2.0.2)\n"
          ]
        }
      ]
    },
    {
      "cell_type": "markdown",
      "source": [
        "**Task 1: Break the  Monoalphabetic Cipher.**"
      ],
      "metadata": {
        "id": "0dARr8tgmaGQ"
      }
    },
    {
      "cell_type": "code",
      "source": [
        "\n",
        "# Reading the ciphertext from the file\n",
        "\n",
        "with open(\"cryptogram01.txt\", \"r\") as text_file:\n",
        "    cryptogram01 = text_file.read()\n",
        "\n",
        "print(\"--- Cryptogram 01 Analysis ---\")\n",
        "print(\"Top 5 Trigrams:\")\n",
        "print(lab1.trigram_ranking(cryptogram01, 5))\n",
        "\n",
        "print(\"\\nTop 5 Digrams:\")\n",
        "print(lab1.digram_ranking(cryptogram01, 5))\n",
        "\n",
        "print(\"\\nTop 5 Monograms (Letters):\")\n",
        "print(lab1.monogram_ranking(cryptogram01, 5))"
      ],
      "metadata": {
        "colab": {
          "base_uri": "https://localhost:8080/"
        },
        "id": "8IfAX8qA3gUD",
        "outputId": "92ce5375-1ff7-412f-9242-7892203c2ab3"
      },
      "execution_count": 18,
      "outputs": [
        {
          "output_type": "stream",
          "name": "stdout",
          "text": [
            "--- Cryptogram 01 Analysis ---\n",
            "Top 5 Trigrams:\n",
            "[('FXW', np.int64(36)), ('ZRN', np.int64(15)), ('JRB', np.int64(14)), ('FXZ', np.int64(11)), ('XWH', np.int64(11))]\n",
            "\n",
            "Top 5 Digrams:\n",
            "[('FX', np.int64(59)), ('JR', np.int64(44)), ('XW', np.int64(41)), ('WH', np.int64(40)), ('ZR', np.int64(35))]\n",
            "\n",
            "Top 5 Monograms (Letters):\n",
            "[('W', np.int64(255)), ('F', np.int64(190)), ('Z', np.int64(170)), ('M', np.int64(163)), ('R', np.int64(150))]\n"
          ]
        }
      ]
    },
    {
      "cell_type": "code",
      "source": [
        "# Our first guess: FXW = the\n",
        "# (Make sure you have run the cell that defines cryptogram01)\n",
        "guess01 = cryptogram01.replace('F', 't')\n",
        "guess01 = guess01.replace('X', 'h')\n",
        "guess01 = guess01.replace('W', 'e')\n",
        "\n",
        "# Print the result of our first guess\n",
        "print(guess01)"
      ],
      "metadata": {
        "colab": {
          "base_uri": "https://localhost:8080/"
        },
        "id": "dbeOIeBp5skC",
        "outputId": "1f853574-6675-43bd-8e38-dc94f28d23b7"
      },
      "execution_count": 19,
      "outputs": [
        {
          "output_type": "stream",
          "name": "stdout",
          "text": [
            "ZTMRBMtheHPGYIJUYGJINJRBAJRZUeHtZJRtMKRKhJUhVMHTZRDHeZAMRAJtKJIIYePHGNeRttMHeVHZJRVHMTTeRtJMRJRBZRNtMKhJUhJKJIIZAAJBRRMVJUtJtJMGARZTetheHeJAMReZRUJeRtIDUMTTMRtMTMAttMKRABHeZtMHATZIItMKJtZKMHShMGAeZRNJRthJAKMHShMGAeKZAYMHRMRZNZDZRNNZteKhJUhJReeNRMttHMGYIeTDAeIVtMHePeZtJRZATGUhZAJtUZRYeMVRMPMAAJYIeUMRAeCGeRUetMtheHeZNeHJRthJAAtZBeMVtheYGAJReAAZtZIIeLeRtAtheJteTMVTMHtZIJtDKhMAeRZTeJAPHeVJEeNtMtheheZNMVthJAUhZPteHVMHZIMRBtJTeZVteHJtKZAGAheHeNJRtMthJAKMHINMVAMHHMKZRNtHMGYIeYDthePZHJAhAGHBeMRJtHeTZJReNZTZtteHMVUMRAJNeHZYIeNMGYtKhetheHtheUhJINKMGINAGHLJLetMYeZHZRDRZTeZtZIIJRKhJUhUZAeJtJAAMTeKhZtTMHethZRPHMYZYIethZttheAeTeTMJHAKMGINReLeHhZLeZPPeZHeNMHJVtheDhZNthZtYeJRBUMTPHJAeNKJthJRZUMGPIeMVPZBeAtheDKMGINhZLePMAAeAAeNtheJReAtJTZYIeTeHJtMVYeJRBtheTMAtUMRUJAeZRNVZJthVGIAPeUJTeRMVYJMBHZPhDeEtZRtJRtheIJteHZtGHeMVZRDZBeMHUMGRtHDZIthMGBhJZTRMtNJAPMAeNtMTZJRtZJRthZttheYeJRBYMHRJRZKMHShMGAeJAJRJtAeIVtheTMAtVMHtGRZteZRNeRLJZYIeUJHUGTAtZRUethZtUZRPMAAJYIDYeVZIIZhGTZRYeJRBJNMTeZRtMAZDthZtJRthJAPZHtJUGIZHJRAtZRUeJtKZAtheYeAtthJRBVMHMIJLeHtKJAtthZtUMGINYDPMAAJYJIJtDhZLeMUUGHHeNtheVZUtJAthZttheHeKZAUMRAJNeHZYIeNJVVJUGItDJRJRNGUJRBMIJLeHtMtZSeGPMRhJTAeIVtheMVVJUeMVHeAPJHZtJMRZtHMGYIeAMTePHZUtJUeYGtMReKhJUhUGAtMThZAHeRNeHeNReUeAAZHDtMMGHeZADeEJAteRUeZRNVMHAMTetJTeheIZDBZAPJRBMRZIJttIeVIMUSTZttHeAAHZtheHGReCGZIIDPMJAeNYetKeeRthJAKMHINZRNtheReEttheYZIZRUeYeJRBNeUJNeNIDJRVZLMGHMVtheIZtteHRMKJVNGHJRBthJAYHJeVPeHJMNMIJLeHhZNYeeRAGHHMGRNeNYDUZHeVGIBHZRNTMtheHAZREJMGAZGRtAeEPeHJeRUeNRGHAeAZRNNMUtMHAMVPHMVMGRNKJANMTheKMGINTMAtJReLJtZYIDZRNJRNGYJtZYIDhZLeYeeRSJIIeNJRRMtJTetheHeYeJRBRMYMNDYDhMKeLeHYGtZPZGPeHMINKMTZRKhMKZAHeRNeHeNHZtheHTJAtDYDZRGRKMRteNZIIMKZRUeMVYeeHZRNZPZHJAhAGHBeMRKhMNJNAGUhTZtteHAYDUMRtHZUtMIJLeHZRNRZtGHeVMGBhtMGtthePMJRtYetKeeRtheTtheHeAGItKZAthZtZVteHZVeKAtHGBBIeAMIJLeHYHeZtheNAReeQeNZRNPHMUeeNeNtMZNLeHtJAetMtheJRTZteAMVtheKMHShMGAetheVZUtMVZReKYGHNeRhZLJRBYeeRJTPMAeNGPMRthePZHJAhYDAettJRBGPZAIMGNZUHDZAUMGINHeZAMRZYIDhZLeYeeReEPeUteNVHMTZTZIeJRVZRtKhMhZNRMtYeeRPMAAeAAeNMVthZtLeHDGAeVGIZPPeRNZBeZLMJUeVMHZTGUhIMRBeHAPZUeMVtJTethZRthHeeTJRGteAZRNZCGZHteH\n"
          ]
        }
      ]
    },
    {
      "cell_type": "markdown",
      "source": [
        "After hunting for more clues and analysis, i am adding M=o, Z=a, R=n, N= d and H = r"
      ],
      "metadata": {
        "id": "679wqET00SuW"
      }
    },
    {
      "cell_type": "code",
      "source": [
        "# Our new guesses: M=o, Z=a, R=n, N=d, H=r\n",
        "# (We keep F=t, X=h, W=e)\n",
        "\n",
        "guess02 = cryptogram01.replace('F', 't')\n",
        "guess02 = guess02.replace('X', 'h')\n",
        "guess02 = guess02.replace('W', 'e')\n",
        "\n",
        "guess02 = guess02.replace('M', 'o')\n",
        "guess02 = guess02.replace('Z', 'a')\n",
        "guess02 = guess02.replace('R', 'n')\n",
        "guess02 = guess02.replace('N', 'd')\n",
        "guess02 = guess02.replace('H', 'r')\n",
        "\n",
        "print(guess02)"
      ],
      "metadata": {
        "colab": {
          "base_uri": "https://localhost:8080/"
        },
        "id": "SGys69eBEEgF",
        "outputId": "b5936687-a2fb-4a2c-eb24-63e097de057c"
      },
      "execution_count": 20,
      "outputs": [
        {
          "output_type": "stream",
          "name": "stdout",
          "text": [
            "aTonBotherPGYIJUYGJIdJnBAJnaUertaJntoKnKhJUhVorTanDreaAonAJtKJIIYePrGdenttoreVraJnVroTTentJonJnBandtoKhJUhJKJIIaAAJBnnoVJUtJtJoGAnaTethereJAoneanUJentIDUoTTontoToAttoKnABreatorATaIItoKJtaKorShoGAeandJnthJAKorShoGAeKaAYornonadaDanddateKhJUhJneednottroGYIeTDAeIVtorePeatJnaATGUhaAJtUanYeoVnoPoAAJYIeUonAeCGenUetothereaderJnthJAAtaBeoVtheYGAJneAAataIIeLentAtheJteToVTortaIJtDKhoAenaTeJAPreVJEedtotheheadoVthJAUhaPterVoraIonBtJTeaVterJtKaAGAheredJntothJAKorIdoVAorroKandtroGYIeYDtheParJAhAGrBeonJtreTaJnedaTatteroVUonAJderaYIedoGYtKhethertheUhJIdKoGIdAGrLJLetoYearanDnaTeataIIJnKhJUhUaAeJtJAAoTeKhatTorethanProYaYIethattheAeTeToJrAKoGIdneLerhaLeaPPearedorJVtheDhadthatYeJnBUoTPrJAedKJthJnaUoGPIeoVPaBeAtheDKoGIdhaLePoAAeAAedtheJneAtJTaYIeTerJtoVYeJnBtheToAtUonUJAeandVaJthVGIAPeUJTenoVYJoBraPhDeEtantJntheIJteratGreoVanDaBeorUoGntrDaIthoGBhJaTnotdJAPoAedtoTaJntaJnthattheYeJnBYornJnaKorShoGAeJAJnJtAeIVtheToAtVortGnateandenLJaYIeUJrUGTAtanUethatUanPoAAJYIDYeVaIIahGTanYeJnBJdoTeantoAaDthatJnthJAPartJUGIarJnAtanUeJtKaAtheYeAtthJnBVoroIJLertKJAtthatUoGIdYDPoAAJYJIJtDhaLeoUUGrredtheVaUtJAthatthereKaAUonAJderaYIedJVVJUGItDJnJndGUJnBoIJLertotaSeGPonhJTAeIVtheoVVJUeoVreAPJratJonatroGYIeAoTePraUtJUeYGtoneKhJUhUGAtoThaArenderedneUeAAarDtooGreaADeEJAtenUeandVorAoTetJTeheIaDBaAPJnBonaIJttIeVIoUSTattreAAratherGneCGaIIDPoJAedYetKeenthJAKorIdandtheneEttheYaIanUeYeJnBdeUJdedIDJnVaLoGroVtheIatternoKJVdGrJnBthJAYrJeVPerJodoIJLerhadYeenAGrroGndedYDUareVGIBrandTotherAanEJoGAaGntAeEPerJenUednGrAeAanddoUtorAoVProVoGndKJAdoTheKoGIdToAtJneLJtaYIDandJndGYJtaYIDhaLeYeenSJIIedJnnotJTethereYeJnBnoYodDYDhoKeLerYGtaPaGPeroIdKoTanKhoKaArenderedratherTJAtDYDanGnKontedaIIoKanUeoVYeerandaParJAhAGrBeonKhodJdAGUhTatterAYDUontraUtoIJLerandnatGreVoGBhtoGtthePoJntYetKeentheTthereAGItKaAthataVteraVeKAtrGBBIeAoIJLerYreathedAneeQedandProUeededtoadLertJAetotheJnTateAoVtheKorShoGAetheVaUtoVaneKYGrdenhaLJnBYeenJTPoAedGPontheParJAhYDAettJnBGPaAIoGdaUrDaAUoGIdreaAonaYIDhaLeYeeneEPeUtedVroTaTaIeJnVantKhohadnotYeenPoAAeAAedoVthatLerDGAeVGIaPPendaBeaLoJUeVoraTGUhIonBerAPaUeoVtJTethanthreeTJnGteAandaCGarter\n"
          ]
        }
      ]
    },
    {
      "cell_type": "markdown",
      "source": [
        "My third most frequent trigram (after FXW=the and ZRN=and) is JRB (14 times). The third most freqent trigram in English is ING. this gives us the guess J=i, R=n, B=g. It also confirms our earlier guess R = n. Also doing some extra guesses, by reading the output and matching with my thoughts, I have some extra guesses."
      ],
      "metadata": {
        "id": "TsHAk1IT6idi"
      }
    },
    {
      "cell_type": "code",
      "source": [
        "# Our new guesses: J=i, B=g, A=s, K=w, S=k\n",
        "# (We keep F=t, X=h, W=e, M=o, Z=a, R=n, N=d, H=r)\n",
        "\n",
        "guess03 = cryptogram01.replace('F', 't')\n",
        "guess03 = guess03.replace('X', 'h')\n",
        "guess03 = guess03.replace('W', 'e')\n",
        "guess03 = guess03.replace('M', 'o')\n",
        "guess03 = guess03.replace('Z', 'a')\n",
        "guess03 = guess03.replace('R', 'n')\n",
        "guess03 = guess03.replace('N', 'd')\n",
        "guess03 = guess03.replace('H', 'r')\n",
        "\n",
        "guess03 = guess03.replace('J', 'i')\n",
        "guess03 = guess03.replace('B', 'g')\n",
        "guess03 = guess03.replace('A', 's')\n",
        "guess03 = guess03.replace('K', 'w')\n",
        "guess03 = guess03.replace('S', 'k')\n",
        "\n",
        "print(guess03)"
      ],
      "metadata": {
        "colab": {
          "base_uri": "https://localhost:8080/"
        },
        "id": "wHZJAaSA1viq",
        "outputId": "d6113aff-0bf8-42e3-f827-7f74dad1a909"
      },
      "execution_count": 21,
      "outputs": [
        {
          "output_type": "stream",
          "name": "stdout",
          "text": [
            "aTongotherPGYIiUYGiIdingsinaUertaintownwhiUhVorTanDreasonsitwiIIYePrGdenttoreVrainVroTTentioningandtowhiUhiwiIIassignnoViUtitioGsnaTethereisoneanUientIDUoTTontoTosttownsgreatorsTaIItowitaworkhoGseandinthisworkhoGsewasYornonadaDanddatewhiUhineednottroGYIeTDseIVtorePeatinasTGUhasitUanYeoVnoPossiYIeUonseCGenUetothereaderinthisstageoVtheYGsinessataIIeLentstheiteToVTortaIitDwhosenaTeisPreViEedtotheheadoVthisUhaPterVoraIongtiTeaVteritwasGsheredintothisworIdoVsorrowandtroGYIeYDtheParishsGrgeonitreTainedaTatteroVUonsideraYIedoGYtwhethertheUhiIdwoGIdsGrLiLetoYearanDnaTeataIIinwhiUhUaseitissoTewhatTorethanProYaYIethattheseTeToirswoGIdneLerhaLeaPPearedoriVtheDhadthatYeingUoTPrisedwithinaUoGPIeoVPagestheDwoGIdhaLePossessedtheinestiTaYIeTeritoVYeingtheTostUonUiseandVaithVGIsPeUiTenoVYiograPhDeEtantintheIiteratGreoVanDageorUoGntrDaIthoGghiaTnotdisPosedtoTaintainthattheYeingYorninaworkhoGseisinitseIVtheTostVortGnateandenLiaYIeUirUGTstanUethatUanPossiYIDYeVaIIahGTanYeingidoTeantosaDthatinthisPartiUGIarinstanUeitwastheYestthingVoroIiLertwistthatUoGIdYDPossiYiIitDhaLeoUUGrredtheVaUtisthattherewasUonsideraYIediVViUGItDinindGUingoIiLertotakeGPonhiTseIVtheoVViUeoVresPirationatroGYIesoTePraUtiUeYGtonewhiUhUGstoThasrenderedneUessarDtooGreasDeEistenUeandVorsoTetiTeheIaDgasPingonaIittIeVIoUkTattressratherGneCGaIIDPoisedYetweenthisworIdandtheneEttheYaIanUeYeingdeUidedIDinVaLoGroVtheIatternowiVdGringthisYrieVPeriodoIiLerhadYeensGrroGndedYDUareVGIgrandTothersanEioGsaGntseEPerienUednGrsesanddoUtorsoVProVoGndwisdoThewoGIdTostineLitaYIDandindGYitaYIDhaLeYeenkiIIedinnotiTethereYeingnoYodDYDhoweLerYGtaPaGPeroIdwoTanwhowasrenderedratherTistDYDanGnwontedaIIowanUeoVYeerandaParishsGrgeonwhodidsGUhTattersYDUontraUtoIiLerandnatGreVoGghtoGtthePointYetweentheTtheresGItwasthataVteraVewstrGggIesoIiLerYreathedsneeQedandProUeededtoadLertisetotheinTatesoVtheworkhoGsetheVaUtoVanewYGrdenhaLingYeeniTPosedGPontheParishYDsettingGPasIoGdaUrDasUoGIdreasonaYIDhaLeYeeneEPeUtedVroTaTaIeinVantwhohadnotYeenPossessedoVthatLerDGseVGIaPPendageaLoiUeVoraTGUhIongersPaUeoVtiTethanthreeTinGtesandaCGarter\n"
          ]
        }
      ]
    },
    {
      "cell_type": "code",
      "source": [],
      "metadata": {
        "id": "T7ZX-igi9ZU8"
      },
      "execution_count": 21,
      "outputs": []
    },
    {
      "cell_type": "markdown",
      "source": [
        "Summary of New Guesses:\n",
        "\n",
        "\n",
        "*   T = m (from among, small)\n",
        "*   I = l (from will, small)\n",
        "*   U = c (from certain, which)\n",
        "*   G = u (from trouble, pauper)\n",
        "*   Y = b (from trouble, probable)\n",
        "*   P = p (from possible, pauper)\n",
        "*   V = f (from of, of sorrow)\n",
        "*   L = v (from survive)     \n",
        "\n"
      ],
      "metadata": {
        "id": "XO_Qjdoi-4Or"
      }
    },
    {
      "cell_type": "code",
      "source": [
        "# Our new guesses: T=m, I=l, U=c, G=u, Y=b, P=p, V=f, L=v\n",
        "# (We keep all 13 previous guesses)\n",
        "\n",
        "guess04 = cryptogram01.replace('F', 't')\n",
        "guess04 = guess04.replace('X', 'h')\n",
        "guess04 = guess04.replace('W', 'e')\n",
        "guess04 = guess04.replace('M', 'o')\n",
        "guess04 = guess04.replace('Z', 'a')\n",
        "guess04 = guess04.replace('R', 'n')\n",
        "guess04 = guess04.replace('N', 'd')\n",
        "guess04 = guess04.replace('H', 'r')\n",
        "guess04 = guess04.replace('J', 'i')\n",
        "guess04 = guess04.replace('B', 'g')\n",
        "guess04 = guess04.replace('A', 's')\n",
        "guess04 = guess04.replace('K', 'w')\n",
        "guess04 = guess04.replace('S', 'k')\n",
        "\n",
        "# Add the new batch\n",
        "guess04 = guess04.replace('T', 'm')\n",
        "guess04 = guess04.replace('I', 'l')\n",
        "guess04 = guess04.replace('U', 'c')\n",
        "guess04 = guess04.replace('G', 'u')\n",
        "guess04 = guess04.replace('Y', 'b')\n",
        "guess04 = guess04.replace('P', 'p')\n",
        "guess04 = guess04.replace('V', 'f')\n",
        "guess04 = guess04.replace('L', 'v')\n",
        "\n",
        "print(guess04)"
      ],
      "metadata": {
        "colab": {
          "base_uri": "https://localhost:8080/"
        },
        "id": "6Yoew3Fi_WqJ",
        "outputId": "9eba4131-1df3-4466-b71e-f93d6a60836a"
      },
      "execution_count": 22,
      "outputs": [
        {
          "output_type": "stream",
          "name": "stdout",
          "text": [
            "amongotherpublicbuildingsinacertaintownwhichformanDreasonsitwillbeprudenttorefrainfrommentioningandtowhichiwillassignnofictitiousnamethereisoneancientlDcommontomosttownsgreatorsmalltowitaworkhouseandinthisworkhousewasbornonadaDanddatewhichineednottroublemDselftorepeatinasmuchasitcanbeofnopossibleconseCuencetothereaderinthisstageofthebusinessatalleventstheitemofmortalitDwhosenameisprefiEedtotheheadofthischapterforalongtimeafteritwasusheredintothisworldofsorrowandtroublebDtheparishsurgeonitremainedamatterofconsiderabledoubtwhetherthechildwouldsurvivetobearanDnameatallinwhichcaseitissomewhatmorethanprobablethatthesememoirswouldneverhaveappearedoriftheDhadthatbeingcomprisedwithinacoupleofpagestheDwouldhavepossessedtheinestimablemeritofbeingthemostconciseandfaithfulspecimenofbiographDeEtantintheliteratureofanDageorcountrDalthoughiamnotdisposedtomaintainthatthebeingborninaworkhouseisinitselfthemostfortunateandenviablecircumstancethatcanpossiblDbefallahumanbeingidomeantosaDthatinthisparticularinstanceitwasthebestthingforolivertwistthatcouldbDpossibilitDhaveoccurredthefactisthattherewasconsiderabledifficultDininducingolivertotakeuponhimselftheofficeofrespirationatroublesomepracticebutonewhichcustomhasrenderednecessarDtooureasDeEistenceandforsometimehelaDgaspingonalittleflockmattressratheruneCuallDpoisedbetweenthisworldandtheneEtthebalancebeingdecidedlDinfavourofthelatternowifduringthisbriefperiodoliverhadbeensurroundedbDcarefulgrandmothersanEiousauntseEperiencednursesanddoctorsofprofoundwisdomhewouldmostinevitablDandindubitablDhavebeenkilledinnotimetherebeingnobodDbDhoweverbutapauperoldwomanwhowasrenderedrathermistDbDanunwontedallowanceofbeerandaparishsurgeonwhodidsuchmattersbDcontractoliverandnaturefoughtoutthepointbetweenthemtheresultwasthatafterafewstrugglesoliverbreathedsneeQedandproceededtoadvertisetotheinmatesoftheworkhousethefactofanewburdenhavingbeenimposedupontheparishbDsettingupasloudacrDascouldreasonablDhavebeeneEpectedfromamaleinfantwhohadnotbeenpossessedofthatverDusefulappendageavoiceforamuchlongerspaceoftimethanthreeminutesandaCuarter\n"
          ]
        }
      ]
    },
    {
      "cell_type": "code",
      "source": [
        "# --- Task 1: Final Decryption ---\n",
        "\n",
        "# We use all 21 previous guesses and add the last 5\n",
        "final_guess = cryptogram01.replace('F', 't')\n",
        "final_guess = final_guess.replace('X', 'h')\n",
        "final_guess = final_guess.replace('W', 'e')\n",
        "final_guess = final_guess.replace('M', 'o')\n",
        "final_guess = final_guess.replace('Z', 'a')\n",
        "final_guess = final_guess.replace('R', 'n')\n",
        "final_guess = final_guess.replace('N', 'd')\n",
        "final_guess = final_guess.replace('H', 'r')\n",
        "final_guess = final_guess.replace('J', 'i')\n",
        "final_guess = final_guess.replace('B', 'g')\n",
        "final_guess = final_guess.replace('A', 's')\n",
        "final_guess = final_guess.replace('K', 'w')\n",
        "final_guess = final_guess.replace('S', 'k')\n",
        "final_guess = final_guess.replace('T', 'm')\n",
        "final_guess = final_guess.replace('I', 'l')\n",
        "final_guess = final_guess.replace('U', 'c')\n",
        "final_guess = final_guess.replace('G', 'u')\n",
        "final_guess = final_guess.replace('Y', 'b')\n",
        "final_guess = final_guess.replace('P', 'p')\n",
        "final_guess = final_guess.replace('V', 'f')\n",
        "final_guess = final_guess.replace('L', 'v')\n",
        "\n",
        "# Add the final 5 letters\n",
        "final_guess = final_guess.replace('D', 'y')\n",
        "final_guess = final_guess.replace('C', 'q')\n",
        "final_guess = final_guess.replace('E', 'x')\n",
        "final_guess = final_guess.replace('Q', 'z')\n",
        "final_guess = final_guess.replace('O', 'j')\n",
        "\n",
        "print(\"--- Cryptogram 01 Final Plaintext ---\")\n",
        "print(final_guess)"
      ],
      "metadata": {
        "colab": {
          "base_uri": "https://localhost:8080/"
        },
        "id": "86wVsY3yUKpD",
        "outputId": "344142b7-30c1-437e-84f4-6cea08e41bdc"
      },
      "execution_count": 23,
      "outputs": [
        {
          "output_type": "stream",
          "name": "stdout",
          "text": [
            "--- Cryptogram 01 Final Plaintext ---\n",
            "amongotherpublicbuildingsinacertaintownwhichformanyreasonsitwillbeprudenttorefrainfrommentioningandtowhichiwillassignnofictitiousnamethereisoneancientlycommontomosttownsgreatorsmalltowitaworkhouseandinthisworkhousewasbornonadayanddatewhichineednottroublemyselftorepeatinasmuchasitcanbeofnopossibleconsequencetothereaderinthisstageofthebusinessatalleventstheitemofmortalitywhosenameisprefixedtotheheadofthischapterforalongtimeafteritwasusheredintothisworldofsorrowandtroublebytheparishsurgeonitremainedamatterofconsiderabledoubtwhetherthechildwouldsurvivetobearanynameatallinwhichcaseitissomewhatmorethanprobablethatthesememoirswouldneverhaveappearedoriftheyhadthatbeingcomprisedwithinacoupleofpagestheywouldhavepossessedtheinestimablemeritofbeingthemostconciseandfaithfulspecimenofbiographyextantintheliteratureofanyageorcountryalthoughiamnotdisposedtomaintainthatthebeingborninaworkhouseisinitselfthemostfortunateandenviablecircumstancethatcanpossiblybefallahumanbeingidomeantosaythatinthisparticularinstanceitwasthebestthingforolivertwistthatcouldbypossibilityhaveoccurredthefactisthattherewasconsiderabledifficultyininducingolivertotakeuponhimselftheofficeofrespirationatroublesomepracticebutonewhichcustomhasrenderednecessarytooureasyexistenceandforsometimehelaygaspingonalittleflockmattressratherunequallypoisedbetweenthisworldandthenextthebalancebeingdecidedlyinfavourofthelatternowifduringthisbriefperiodoliverhadbeensurroundedbycarefulgrandmothersanxiousauntsexperiencednursesanddoctorsofprofoundwisdomhewouldmostinevitablyandindubitablyhavebeenkilledinnotimetherebeingnobodybyhoweverbutapauperoldwomanwhowasrenderedrathermistybyanunwontedallowanceofbeerandaparishsurgeonwhodidsuchmattersbycontractoliverandnaturefoughtoutthepointbetweenthemtheresultwasthatafterafewstrugglesoliverbreathedsneezedandproceededtoadvertisetotheinmatesoftheworkhousethefactofanewburdenhavingbeenimposedupontheparishbysettingupasloudacryascouldreasonablyhavebeenexpectedfromamaleinfantwhohadnotbeenpossessedofthatveryusefulappendageavoiceforamuchlongerspaceoftimethanthreeminutesandaquarter\n"
          ]
        }
      ]
    },
    {
      "cell_type": "markdown",
      "source": [
        "**Task 2: Break the Vigenere Cipher.**"
      ],
      "metadata": {
        "id": "RO7YHe37mSQs"
      }
    },
    {
      "cell_type": "markdown",
      "source": [
        "This task is more automated. We need to write the two functions described in the instructions  to find the key length and then the key itself."
      ],
      "metadata": {
        "id": "T8cZ0vJUm4TM"
      }
    },
    {
      "cell_type": "markdown",
      "source": [
        "Now I need to do 2 tasks:\n",
        "\n",
        "\n",
        "*   Estimate the key length\n",
        "*   Determine the actual key\n",
        "\n",
        "Goal: Estimate the most probable key length.\n",
        "My strategy is to use the Index of Coincidence (IC) or Friedman test.\n",
        "\n"
      ],
      "metadata": {
        "id": "W7Eajgqm0emM"
      }
    },
    {
      "cell_type": "code",
      "source": [],
      "metadata": {
        "id": "qNw5MD7Cm5-m"
      },
      "execution_count": null,
      "outputs": []
    }
  ]
}